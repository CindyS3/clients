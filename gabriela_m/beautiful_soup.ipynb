{
 "cells": [
  {
   "cell_type": "code",
   "execution_count": 16,
   "metadata": {},
   "outputs": [],
   "source": [
    "import bs4\n",
    "import requests\n",
    "\n",
    "from urllib.request import urlopen"
   ]
  },
  {
   "cell_type": "code",
   "execution_count": 52,
   "metadata": {},
   "outputs": [],
   "source": [
    "resp = urlopen('http://en.granma.cu/').read()"
   ]
  },
  {
   "cell_type": "code",
   "execution_count": 53,
   "metadata": {},
   "outputs": [],
   "source": [
    "soup = bs4.BeautifulSoup(resp, 'html.parser')"
   ]
  },
  {
   "cell_type": "code",
   "execution_count": 43,
   "metadata": {},
   "outputs": [],
   "source": [
    "import numpy as np"
   ]
  },
  {
   "cell_type": "code",
   "execution_count": 57,
   "metadata": {},
   "outputs": [],
   "source": [
    "res = soup.prettify()"
   ]
  },
  {
   "cell_type": "code",
   "execution_count": 63,
   "metadata": {},
   "outputs": [
    {
     "data": {
      "text/plain": [
       "'cuba\">\\n        Cuba\\n       </a>\\n      </li>\\n      <li>\\n       <a href=\"/mundo\">\\n        World\\n      '"
      ]
     },
     "execution_count": 63,
     "metadata": {},
     "output_type": "execute_result"
    }
   ],
   "source": [
    "res"
   ]
  },
  {
   "cell_type": "code",
   "execution_count": null,
   "metadata": {},
   "outputs": [],
   "source": []
  },
  {
   "cell_type": "code",
   "execution_count": null,
   "metadata": {},
   "outputs": [],
   "source": []
  },
  {
   "cell_type": "code",
   "execution_count": 51,
   "metadata": {},
   "outputs": [
    {
     "ename": "FileNotFoundError",
     "evalue": "[Errno 2] No such file or directory: 'text.html'",
     "output_type": "error",
     "traceback": [
      "\u001b[0;31m---------------------------------------------------------------------------\u001b[0m",
      "\u001b[0;31mFileNotFoundError\u001b[0m                         Traceback (most recent call last)",
      "\u001b[0;32m<ipython-input-51-fa4c0f4199ae>\u001b[0m in \u001b[0;36m<module>\u001b[0;34m\u001b[0m\n\u001b[0;32m----> 1\u001b[0;31m \u001b[0mout\u001b[0m \u001b[0;34m=\u001b[0m \u001b[0mopen\u001b[0m\u001b[0;34m(\u001b[0m\u001b[0;34m'text.html'\u001b[0m\u001b[0;34m,\u001b[0m \u001b[0;34m'r+'\u001b[0m\u001b[0;34m)\u001b[0m\u001b[0;34m\u001b[0m\u001b[0;34m\u001b[0m\u001b[0m\n\u001b[0m\u001b[1;32m      2\u001b[0m \u001b[0mout\u001b[0m\u001b[0;34m.\u001b[0m\u001b[0mwrite\u001b[0m\u001b[0;34m(\u001b[0m\u001b[0mres\u001b[0m\u001b[0;34m)\u001b[0m\u001b[0;34m\u001b[0m\u001b[0;34m\u001b[0m\u001b[0m\n\u001b[1;32m      3\u001b[0m \u001b[0mout\u001b[0m\u001b[0;34m.\u001b[0m\u001b[0mclose\u001b[0m\u001b[0;34m(\u001b[0m\u001b[0;34m)\u001b[0m\u001b[0;34m\u001b[0m\u001b[0;34m\u001b[0m\u001b[0m\n",
      "\u001b[0;31mFileNotFoundError\u001b[0m: [Errno 2] No such file or directory: 'text.html'"
     ]
    }
   ],
   "source": [
    "out = open('text.html', 'r+')\n",
    "out.write(res)\n",
    "out.close()"
   ]
  },
  {
   "cell_type": "code",
   "execution_count": null,
   "metadata": {},
   "outputs": [],
   "source": []
  },
  {
   "cell_type": "code",
   "execution_count": 35,
   "metadata": {},
   "outputs": [
    {
     "name": "stdout",
     "output_type": "stream",
     "text": [
      "<!DOCTYPE html PUBLIC \"-//W3C//DTD XHTML+RDFa 1.0//EN\" \"http://www.w3.org/MarkUp/DTD/xhtml-rdfa-1.dtd\">\n",
      "<html dir=\"ltr\" version=\"XHTML+RDFa 1.0\" xml:lang=\"en\" xmlns=\"http://www.w3.org/1999/xhtml\" xmlns:content=\"http://purl.org/rss/1.0/modules/content/\" xmlns:dc=\"http://purl.org/dc/terms/\" xmlns:foaf=\"http://xmlns.com/foaf/0.1/\" xmlns:og=\"http://ogp.me/ns#\" xmlns:rdfs=\"http://www.w3.org/2000/01/rdf-schema#\" xmlns:sioc=\"http://rdfs.org/sioc/ns#\" xmlns:sioct=\"http://rdfs.org/sioc/types#\" xmlns:skos=\"http://www.w3.org/2004/02/skos/core#\" xmlns:xsd=\"http://www.w3.org/2001/XMLSchema#\">\n",
      " <head profile=\"http://www.w3.org/1999/xhtml/vocab\">\n",
      "  <meta charset=\"utf-8\"/>\n",
      "  <meta content=\"width=device-width, initial-scale=1\" name=\"viewport\"/>\n",
      "  <link href=\"http://www.pythonscraping.com/misc/favicon.ico\" rel=\"shortcut icon\" type=\"image/vnd.microsoft.icon\"/>\n",
      "  <meta content=\"true\" name=\"HandheldFriendly\"/>\n",
      "  <link href=\"/node/3\" rel=\"shortlink\"/>\n",
      "  <meta content=\"Drupal 7 (http://drupal.org)\" name=\"Generator\"/>\n",
      "  <link href=\"/node/3\" rel=\"canonical\"/>\n",
      "  <meta content=\"width\" name=\"MobileOptimized\"/>\n",
      "  <title>\n",
      "   Collecting More Data from the Modern Web | Web Scraping with Python\n",
      "  </title>\n",
      "  <style media=\"all\" type=\"text/css\">\n",
      "   @import url(\"http://www.pythonscraping.com/modules/system/system.base.css?pa2nir\");\n",
      "@import url(\"http://www.pythonscraping.com/modules/system/system.menus.css?pa2nir\");\n",
      "@import url(\"http://www.pythonscraping.com/modules/system/system.messages.css?pa2nir\");\n",
      "@import url(\"http://www.pythonscraping.com/modules/system/system.theme.css?pa2nir\");\n",
      "  </style>\n",
      "  <style media=\"all\" type=\"text/css\">\n",
      "   @import url(\"http://www.pythonscraping.com/modules/comment/comment.css?pa2nir\");\n",
      "@import url(\"http://www.pythonscraping.com/modules/field/theme/field.css?pa2nir\");\n",
      "@import url(\"http://www.pythonscraping.com/modules/node/node.css?pa2nir\");\n",
      "@import url(\"http://www.pythonscraping.com/modules/search/search.css?pa2nir\");\n",
      "@import url(\"http://www.pythonscraping.com/modules/user/user.css?pa2nir\");\n",
      "@import url(\"http://www.pythonscraping.com/sites/all/modules/views/css/views.css?pa2nir\");\n",
      "@import url(\"http://www.pythonscraping.com/sites/all/modules/ckeditor/css/ckeditor.css?pa2nir\");\n",
      "  </style>\n",
      "  <style media=\"all\" type=\"text/css\">\n",
      "   @import url(\"http://www.pythonscraping.com/sites/all/modules/ctools/css/ctools.css?pa2nir\");\n",
      "  </style>\n",
      "  <style media=\"all\" type=\"text/css\">\n",
      "   @import url(\"http://www.pythonscraping.com/sites/all/themes/skeletontheme/css/skeleton.css?pa2nir\");\n",
      "@import url(\"http://www.pythonscraping.com/sites/all/themes/skeletontheme/css/style.css?pa2nir\");\n",
      "@import url(\"http://www.pythonscraping.com/sites/all/themes/skeletontheme/css/buttons.css?pa2nir\");\n",
      "@import url(\"http://www.pythonscraping.com/sites/all/themes/skeletontheme/css/layout.css?pa2nir\");\n",
      "@import url(\"http://www.pythonscraping.com/sites/all/themes/skeletontheme/color/colors.css?pa2nir\");\n",
      "  </style>\n",
      "  <script src=\"http://www.pythonscraping.com/misc/jquery.js?v=1.4.4\" type=\"text/javascript\">\n",
      "  </script>\n",
      "  <script src=\"http://www.pythonscraping.com/misc/jquery.once.js?v=1.2\" type=\"text/javascript\">\n",
      "  </script>\n",
      "  <script src=\"http://www.pythonscraping.com/misc/drupal.js?pa2nir\" type=\"text/javascript\">\n",
      "  </script>\n",
      "  <script src=\"http://www.pythonscraping.com/sites/all/themes/skeletontheme/js/jquery.mobilemenu.js?pa2nir\" type=\"text/javascript\">\n",
      "  </script>\n",
      "  <script type=\"text/javascript\">\n",
      "   <!--//--><![CDATA[//><!--\n",
      "jQuery(document).ready(function($) { \n",
      "\t\n",
      "\t$(\"#navigation .content > ul\").mobileMenu({\n",
      "\t\tprependTo: \"#navigation\",\n",
      "\t\tcombine: false,\n",
      "        switchWidth: 760,\n",
      "        topOptionText: Drupal.settings.skeletontheme['topoptiontext']\n",
      "\t});\n",
      "\t\n",
      "\t});\n",
      "//--><!]]>\n",
      "  </script>\n",
      "  <script src=\"http://www.pythonscraping.com/sites/all/modules/google_analytics/googleanalytics.js?pa2nir\" type=\"text/javascript\">\n",
      "  </script>\n",
      "  <script type=\"text/javascript\">\n",
      "   <!--//--><![CDATA[//><!--\n",
      "(function(i,s,o,g,r,a,m){i[\"GoogleAnalyticsObject\"]=r;i[r]=i[r]||function(){(i[r].q=i[r].q||[]).push(arguments)},i[r].l=1*new Date();a=s.createElement(o),m=s.getElementsByTagName(o)[0];a.async=1;a.src=g;m.parentNode.insertBefore(a,m)})(window,document,\"script\",\"https://www.google-analytics.com/analytics.js\",\"ga\");ga(\"create\", \"UA-57871098-1\", {\"cookieDomain\":\"auto\"});ga(\"set\", \"anonymizeIp\", true);ga(\"send\", \"pageview\");\n",
      "//--><!]]>\n",
      "  </script>\n",
      "  <script type=\"text/javascript\">\n",
      "   <!--//--><![CDATA[//><!--\n",
      "jQuery.extend(Drupal.settings, {\"basePath\":\"\\/\",\"pathPrefix\":\"\",\"skeletontheme\":{\"topoptiontext\":\"Select a page\"},\"ajaxPageState\":{\"theme\":\"skeletontheme\",\"theme_token\":\"FbrgKnahG-eYsE8CRL4Appw-kCdfCqidKGcp7ZJoky4\",\"js\":{\"misc\\/jquery.js\":1,\"misc\\/jquery.once.js\":1,\"misc\\/drupal.js\":1,\"sites\\/all\\/themes\\/skeletontheme\\/js\\/jquery.mobilemenu.js\":1,\"0\":1,\"sites\\/all\\/modules\\/google_analytics\\/googleanalytics.js\":1,\"1\":1},\"css\":{\"modules\\/system\\/system.base.css\":1,\"modules\\/system\\/system.menus.css\":1,\"modules\\/system\\/system.messages.css\":1,\"modules\\/system\\/system.theme.css\":1,\"modules\\/comment\\/comment.css\":1,\"modules\\/field\\/theme\\/field.css\":1,\"modules\\/node\\/node.css\":1,\"modules\\/search\\/search.css\":1,\"modules\\/user\\/user.css\":1,\"sites\\/all\\/modules\\/views\\/css\\/views.css\":1,\"sites\\/all\\/modules\\/ckeditor\\/css\\/ckeditor.css\":1,\"sites\\/all\\/modules\\/ctools\\/css\\/ctools.css\":1,\"sites\\/all\\/themes\\/skeletontheme\\/css\\/skeleton.css\":1,\"sites\\/all\\/themes\\/skeletontheme\\/css\\/style.css\":1,\"sites\\/all\\/themes\\/skeletontheme\\/css\\/buttons.css\":1,\"sites\\/all\\/themes\\/skeletontheme\\/css\\/layout.css\":1,\"sites\\/all\\/themes\\/skeletontheme\\/color\\/colors.css\":1}},\"googleanalytics\":{\"trackOutbound\":1,\"trackMailto\":1,\"trackDownload\":1,\"trackDownloadExtensions\":\"7z|aac|arc|arj|asf|asx|avi|bin|csv|doc(x|m)?|dot(x|m)?|exe|flv|gif|gz|gzip|hqx|jar|jpe?g|js|mp(2|3|4|e?g)|mov(ie)?|msi|msp|pdf|phps|png|ppt(x|m)?|pot(x|m)?|pps(x|m)?|ppam|sld(x|m)?|thmx|qtm?|ra(m|r)?|sea|sit|tar|tgz|torrent|txt|wav|wma|wmv|wpd|xls(x|m|b)?|xlt(x|m)|xlam|xml|z|zip\"}});\n",
      "//--><!]]>\n",
      "  </script>\n",
      " </head>\n",
      " <body class=\"html front not-logged-in one-sidebar sidebar-first page-node page-node- page-node-3 node-type-page\">\n",
      "  <div id=\"skip-link\">\n",
      "   <a class=\"element-invisible element-focusable\" href=\"#main-content\">\n",
      "    Skip to main content\n",
      "   </a>\n",
      "  </div>\n",
      "  <div id=\"wrap\">\n",
      "   <div class=\"container\">\n",
      "    <div class=\"clear\">\n",
      "    </div>\n",
      "    <!-- #header -->\n",
      "    <div class=\"sixteen columns clearfix\" id=\"header\">\n",
      "     <div class=\"inner\">\n",
      "      <a href=\"/\" id=\"logo\" rel=\"home\" title=\"Home\">\n",
      "       <img alt=\"Home\" src=\"http://www.pythonscraping.com/sites/default/files/lrg_0.jpg\"/>\n",
      "      </a>\n",
      "      <div id=\"name-and-slogan\">\n",
      "       <div id=\"site-name\">\n",
      "        <a href=\"/\" rel=\"home\" title=\"Home\">\n",
      "         Web Scraping with Python\n",
      "        </a>\n",
      "       </div>\n",
      "      </div>\n",
      "     </div>\n",
      "    </div>\n",
      "    <!-- /#header -->\n",
      "    <div class=\"clear\">\n",
      "    </div>\n",
      "    <!-- #navigation -->\n",
      "    <div class=\"sixteen columns clearfix\" id=\"navigation\">\n",
      "     <div class=\"menu-header\">\n",
      "      <div class=\"content\">\n",
      "       <ul class=\"menu\">\n",
      "        <li class=\"first leaf\">\n",
      "         <a class=\"active\" href=\"/\">\n",
      "          Home\n",
      "         </a>\n",
      "        </li>\n",
      "        <li class=\"leaf\">\n",
      "         <a href=\"/node/5\">\n",
      "          About the Author\n",
      "         </a>\n",
      "        </li>\n",
      "        <li class=\"leaf\">\n",
      "         <a href=\"/node/15\" title=\"\">\n",
      "          About the Book\n",
      "         </a>\n",
      "        </li>\n",
      "        <li class=\"last leaf\">\n",
      "         <a href=\"/blog\" title=\"\">\n",
      "          Blog\n",
      "         </a>\n",
      "        </li>\n",
      "       </ul>\n",
      "      </div>\n",
      "     </div>\n",
      "    </div>\n",
      "    <!-- /#navigation -->\n",
      "    <!-- #sidebar-first -->\n",
      "    <div class=\"five columns\" id=\"sidebar-first\">\n",
      "     <div class=\"region region-sidebar-first\">\n",
      "      <div class=\"block block-block\" id=\"block-block-1\">\n",
      "       <h2>\n",
      "        Buy WSwP Directly from O'Reilly:\n",
      "       </h2>\n",
      "       <div class=\"content\">\n",
      "        <iframe frameborder=\"0\" height=\"500px\" scrolling=\"no\" src=\"http://www.oreilly.com/authors/widgets/669.html\" width=\"200px\">\n",
      "        </iframe>\n",
      "       </div>\n",
      "      </div>\n",
      "      <div class=\"block block-system block-menu\" id=\"block-system-navigation\">\n",
      "       <h2>\n",
      "        Navigation\n",
      "       </h2>\n",
      "       <div class=\"content\">\n",
      "        <ul class=\"menu\">\n",
      "         <li class=\"first last leaf\">\n",
      "          <a href=\"/blog\">\n",
      "           Blog\n",
      "          </a>\n",
      "         </li>\n",
      "        </ul>\n",
      "       </div>\n",
      "      </div>\n",
      "     </div>\n",
      "    </div>\n",
      "    <!-- /#sidebar-first -->\n",
      "    <div class=\"eleven columns\" id=\"content\">\n",
      "     <div id=\"main\">\n",
      "      <h1 class=\"title\" id=\"page-title\">\n",
      "       Collecting More Data from the Modern Web\n",
      "      </h1>\n",
      "      <div class=\"tabs\">\n",
      "      </div>\n",
      "      <div class=\"region region-content\">\n",
      "       <div class=\"block block-system\" id=\"block-system-main\">\n",
      "        <div class=\"content\">\n",
      "         <div about=\"/node/3\" class=\"node node-page node-promoted clearfix\" id=\"node-3\" typeof=\"foaf:Document\">\n",
      "          <span class=\"rdf-meta element-hidden\" content=\"Collecting More Data from the Modern Web\" property=\"dc:title\">\n",
      "          </span>\n",
      "          <span class=\"rdf-meta element-hidden\" content=\"0\" datatype=\"xsd:integer\" property=\"sioc:num_replies\">\n",
      "          </span>\n",
      "          <div class=\"content clearfix\">\n",
      "           <div class=\"field field-name-body field-type-text-with-summary field-label-hidden\">\n",
      "            <div class=\"field-items\">\n",
      "             <div class=\"field-item even\" property=\"content:encoded\">\n",
      "              <p>\n",
      "               Learn web scraping and crawling techniques to access unlimited data from any web source in any format. With this practical guide, you’ll learn how to use Python scripts and web APIs to gather and process data from thousands—or even millions—of web pages at once.\n",
      "              </p>\n",
      "              <p>\n",
      "               Ideal for programmers, security professionals, and web administrators familiar with Python, this book not only teaches basic web scraping mechanics, but also delves into more advanced topics, such as analyzing raw data or using scrapers for frontend website testing. Code samples are available to help you understand the concepts in practice.\n",
      "              </p>\n",
      "              <p>\n",
      "               <a href=\"http://shop.oreilly.com/product/0636920034391.do\" target=\"_blank\">\n",
      "                <img alt=\"\" src=\"http://pythonscraping.com/img/lrg%20(1).jpg\" style=\"height:394px; width:300px\"/>\n",
      "               </a>\n",
      "              </p>\n",
      "             </div>\n",
      "            </div>\n",
      "           </div>\n",
      "          </div>\n",
      "         </div>\n",
      "        </div>\n",
      "       </div>\n",
      "      </div>\n",
      "     </div>\n",
      "    </div>\n",
      "    <!-- /#content -->\n",
      "    <div class=\"clear\">\n",
      "    </div>\n",
      "   </div>\n",
      "   <div id=\"footer\">\n",
      "    <div class=\"container\">\n",
      "     <div class=\"sixteen columns clearfix\">\n",
      "      <div class=\"one_third\">\n",
      "      </div>\n",
      "      <div class=\"one_third\">\n",
      "      </div>\n",
      "      <div class=\"one_third last\">\n",
      "      </div>\n",
      "      <div class=\"clear\">\n",
      "      </div>\n",
      "      <div class=\"clear\">\n",
      "      </div>\n",
      "      <div id=\"credits\">\n",
      "       2019                                 Web Scraping with Python\n",
      "       <br/>\n",
      "       © Ryan Mitchell, All Rights Reserved. For questions about reproduction or use of any material on this site, please contact ryan.e.mitchell@gmail.com\n",
      "      </div>\n",
      "     </div>\n",
      "    </div>\n",
      "   </div>\n",
      "  </div>\n",
      "  <!-- /#wrap -->\n",
      " </body>\n",
      "</html>\n",
      "\n"
     ]
    }
   ],
   "source": [
    "from urllib.request import urlopen\n",
    "from bs4 import BeautifulSoup\n",
    "html = urlopen(\"http://www.pythonscraping.com\")\n",
    "bsObj = BeautifulSoup(html.read())\n",
    "print(bsObj.prettify())"
   ]
  },
  {
   "cell_type": "code",
   "execution_count": 32,
   "metadata": {},
   "outputs": [
    {
     "data": {
      "text/plain": [
       "b''"
      ]
     },
     "execution_count": 32,
     "metadata": {},
     "output_type": "execute_result"
    }
   ],
   "source": []
  },
  {
   "cell_type": "code",
   "execution_count": null,
   "metadata": {},
   "outputs": [],
   "source": []
  }
 ],
 "metadata": {
  "kernelspec": {
   "display_name": "Python 3",
   "language": "python",
   "name": "python3"
  },
  "language_info": {
   "codemirror_mode": {
    "name": "ipython",
    "version": 3
   },
   "file_extension": ".py",
   "mimetype": "text/x-python",
   "name": "python",
   "nbconvert_exporter": "python",
   "pygments_lexer": "ipython3",
   "version": "3.7.1"
  }
 },
 "nbformat": 4,
 "nbformat_minor": 2
}
