{
 "cells": [
  {
   "cell_type": "code",
   "execution_count": 81,
   "metadata": {},
   "outputs": [
    {
     "name": "stdout",
     "output_type": "stream",
     "text": [
      "Requirement already satisfied: pandas in /Users/mgbvox/anaconda3/lib/python3.7/site-packages (0.23.4)\n",
      "Requirement already satisfied: python-dateutil>=2.5.0 in /Users/mgbvox/anaconda3/lib/python3.7/site-packages (from pandas) (2.7.5)\n",
      "Requirement already satisfied: pytz>=2011k in /Users/mgbvox/anaconda3/lib/python3.7/site-packages (from pandas) (2018.7)\n",
      "Requirement already satisfied: numpy>=1.9.0 in /Users/mgbvox/anaconda3/lib/python3.7/site-packages (from pandas) (1.15.4)\n",
      "Requirement already satisfied: six>=1.5 in /Users/mgbvox/anaconda3/lib/python3.7/site-packages (from python-dateutil>=2.5.0->pandas) (1.12.0)\n",
      "Populating the interactive namespace from numpy and matplotlib\n"
     ]
    }
   ],
   "source": [
    "%pylab inline\n",
    "import pandas as pd\n",
    "import numpy as np\n",
    "import spotipy\n",
    "import spotipy.util as util\n",
    "from spotipy.oauth2 import SpotifyClientCredentials"
   ]
  },
  {
   "cell_type": "code",
   "execution_count": 2,
   "metadata": {},
   "outputs": [],
   "source": [
    "def get_token(scope, \n",
    "              username = '1273962277', \n",
    "              client_id='a33dd60d2fd74c17a1bd6dc5d461eb60',\n",
    "              client_secret='10be67083f994404bdf4366055bb5248'):\n",
    "    token = util.prompt_for_user_token(username, \n",
    "                            scope = scope,\n",
    "                            client_id=client_id,\n",
    "                            client_secret=client_secret, \n",
    "                            redirect_uri='http://localhost:8888/callback')\n",
    "    return token"
   ]
  },
  {
   "cell_type": "code",
   "execution_count": 83,
   "metadata": {},
   "outputs": [
    {
     "name": "stdout",
     "output_type": "stream",
     "text": [
      "BQBNqEYv0u6yk-kq_75wIooPlYvj6EXUzk3wNZ1BXzz_fBOoCiJido380jbjA9DQum7sHbeTdwi19_XSu-UxYzP62SfCYnpUjzvTsckfdbHe88W6NvsM1kP82rz16U4ooTyDQCyGbtrFQexJzMu0J_bYKv0\n"
     ]
    }
   ],
   "source": [
    "scope = 'user-top-read'\n",
    "token = get_token(scope)\n",
    "print(token)"
   ]
  },
  {
   "cell_type": "code",
   "execution_count": 84,
   "metadata": {},
   "outputs": [],
   "source": [
    "if token:\n",
    "    sp = spotipy.Spotify(auth=token)\n",
    "    sp.trace = False\n",
    "    results = sp.current_user_top_artists(limit =50, offset =0, time_range = 'medium_term')\n",
    "    genres = pd.Series([i['genres'] for i in results['items']], name='Genres')\n",
    "    names = pd.Series([i['name'] for i in results['items']], name='Name')\n",
    "    data = pd.concat([names, genres], axis=1)"
   ]
  },
  {
   "cell_type": "code",
   "execution_count": 85,
   "metadata": {},
   "outputs": [
    {
     "data": {
      "text/html": [
       "<div>\n",
       "<style scoped>\n",
       "    .dataframe tbody tr th:only-of-type {\n",
       "        vertical-align: middle;\n",
       "    }\n",
       "\n",
       "    .dataframe tbody tr th {\n",
       "        vertical-align: top;\n",
       "    }\n",
       "\n",
       "    .dataframe thead th {\n",
       "        text-align: right;\n",
       "    }\n",
       "</style>\n",
       "<table border=\"1\" class=\"dataframe\">\n",
       "  <thead>\n",
       "    <tr style=\"text-align: right;\">\n",
       "      <th></th>\n",
       "      <th>Name</th>\n",
       "      <th>Genres</th>\n",
       "    </tr>\n",
       "  </thead>\n",
       "  <tbody>\n",
       "    <tr>\n",
       "      <th>0</th>\n",
       "      <td>Christine Brewer</td>\n",
       "      <td>[classical soprano]</td>\n",
       "    </tr>\n",
       "    <tr>\n",
       "      <th>1</th>\n",
       "      <td>Original Cast of Hadestown</td>\n",
       "      <td>[broadway, show tunes]</td>\n",
       "    </tr>\n",
       "    <tr>\n",
       "      <th>2</th>\n",
       "      <td>Watsky</td>\n",
       "      <td>[abstract hip hop, comic, indie pop rap, pop rap]</td>\n",
       "    </tr>\n",
       "    <tr>\n",
       "      <th>3</th>\n",
       "      <td>Andrew Lloyd Webber</td>\n",
       "      <td>[broadway, show tunes]</td>\n",
       "    </tr>\n",
       "    <tr>\n",
       "      <th>4</th>\n",
       "      <td>Beyoncé</td>\n",
       "      <td>[dance pop, pop, r&amp;b]</td>\n",
       "    </tr>\n",
       "  </tbody>\n",
       "</table>\n",
       "</div>"
      ],
      "text/plain": [
       "                         Name  \\\n",
       "0            Christine Brewer   \n",
       "1  Original Cast of Hadestown   \n",
       "2                      Watsky   \n",
       "3         Andrew Lloyd Webber   \n",
       "4                     Beyoncé   \n",
       "\n",
       "                                              Genres  \n",
       "0                                [classical soprano]  \n",
       "1                             [broadway, show tunes]  \n",
       "2  [abstract hip hop, comic, indie pop rap, pop rap]  \n",
       "3                             [broadway, show tunes]  \n",
       "4                              [dance pop, pop, r&b]  "
      ]
     },
     "execution_count": 85,
     "metadata": {},
     "output_type": "execute_result"
    }
   ],
   "source": [
    "data.head()"
   ]
  },
  {
   "cell_type": "code",
   "execution_count": 49,
   "metadata": {},
   "outputs": [],
   "source": [
    "df = pd.DataFrame.from_dict(results['items'])\n",
    "cols = ['name','external_urls', 'followers', 'genres', 'id', 'images',\n",
    "       'popularity', 'type']\n",
    "df = df[cols]\n",
    "df['external_urls'] = df['external_urls'].apply(lambda x: x['spotify'])"
   ]
  },
  {
   "cell_type": "code",
   "execution_count": null,
   "metadata": {},
   "outputs": [],
   "source": []
  },
  {
   "cell_type": "code",
   "execution_count": null,
   "metadata": {},
   "outputs": [],
   "source": []
  },
  {
   "cell_type": "code",
   "execution_count": null,
   "metadata": {},
   "outputs": [],
   "source": []
  }
 ],
 "metadata": {
  "kernelspec": {
   "display_name": "Python 3",
   "language": "python",
   "name": "python3"
  },
  "language_info": {
   "codemirror_mode": {
    "name": "ipython",
    "version": 3
   },
   "file_extension": ".py",
   "mimetype": "text/x-python",
   "name": "python",
   "nbconvert_exporter": "python",
   "pygments_lexer": "ipython3",
   "version": "3.7.1"
  }
 },
 "nbformat": 4,
 "nbformat_minor": 2
}
