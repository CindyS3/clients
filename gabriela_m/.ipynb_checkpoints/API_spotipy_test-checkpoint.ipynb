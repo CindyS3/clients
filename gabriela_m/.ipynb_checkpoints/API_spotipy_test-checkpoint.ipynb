{
 "cells": [
  {
   "cell_type": "code",
   "execution_count": 14,
   "metadata": {},
   "outputs": [],
   "source": [
    "import spotipy\n",
    "import spotipy.util as util\n",
    "from spotipy.oauth2 import SpotifyClientCredentials"
   ]
  },
  {
   "cell_type": "code",
   "execution_count": 8,
   "metadata": {},
   "outputs": [
    {
     "data": {
      "text/plain": [
       "'mgbvox@gmail.com'"
      ]
     },
     "execution_count": 8,
     "metadata": {},
     "output_type": "execute_result"
    }
   ],
   "source": [
    "'''\n",
    "get:\n",
    "Listening history\n",
    "Store data, manipulate it\n",
    "analysis independently\n",
    "\n",
    "Access and write to google calendar\n",
    "Integrate across multiple platforms\n",
    "\n",
    "Instagram API: followers, look for artist followers\n",
    "\n",
    "Separate: \n",
    "Web Crawling\n",
    "\n",
    "\n",
    "'''"
   ]
  },
  {
   "cell_type": "code",
   "execution_count": 2,
   "metadata": {},
   "outputs": [],
   "source": [
    "#replace client_id and secret with your own!\n",
    "#IMPORTANT: Make sure to whitelist your redirect_uri (API Dashboard -> your app -> edit settings -> Redirect URIs)\n",
    "\n",
    "def get_token(scope, \n",
    "              username = 'mgbvox', \n",
    "              client_id='c8588eb78ab44e1f90d107c66d693891',\n",
    "              client_secret='fcd94b9c703e4f2d86fb267849de9660'):\n",
    "    token = util.prompt_for_user_token(username, \n",
    "                            scope = scope,\n",
    "                            client_id=client_id,\n",
    "                            client_secret=client_secret, \n",
    "                            redirect_uri='http://localhost:8888/callback')\n",
    "    return token"
   ]
  },
  {
   "cell_type": "code",
   "execution_count": 3,
   "metadata": {},
   "outputs": [],
   "source": [
    "scope = 'user-top-read'\n",
    "token = get_token(scope)"
   ]
  },
  {
   "cell_type": "code",
   "execution_count": 4,
   "metadata": {},
   "outputs": [
    {
     "name": "stdout",
     "output_type": "stream",
     "text": [
      "0 81st Street Sessions\n",
      "1 Favorites\n",
      "2 Inspiration\n",
      "3 MT Albums\n",
      "4 MT Songs to Learn\n",
      "5 Potential Covers\n"
     ]
    }
   ],
   "source": [
    "if token:\n",
    "    sp = spotipy.Spotify(auth=token)\n",
    "    sp.trace = False\n",
    "    results = sp.current_user_playlists(limit=50)\n",
    "    for i, item in enumerate(results['items']):\n",
    "        print(\"%d %s\" %(i, item['name']))"
   ]
  },
  {
   "cell_type": "code",
   "execution_count": 5,
   "metadata": {},
   "outputs": [],
   "source": [
    "sp = spotipy.Spotify(auth=token)\n",
    "result = sp.current_user_top_artists()"
   ]
  },
  {
   "cell_type": "code",
   "execution_count": 13,
   "metadata": {},
   "outputs": [
    {
     "data": {
      "text/plain": [
       "['Christine Brewer',\n",
       " 'Original Cast of Hadestown',\n",
       " 'Watsky',\n",
       " 'Andrew Lloyd Webber',\n",
       " 'Beyoncé',\n",
       " 'Stanford Fleet Street Singers',\n",
       " 'Jacob Collier',\n",
       " 'Carner & Gregor',\n",
       " 'Snarky Puppy',\n",
       " 'Sungazer',\n",
       " 'Josh Groban',\n",
       " 'Adam Guettel',\n",
       " 'James Hannigan',\n",
       " 'Choir of Trinity College, University of Melbourne',\n",
       " 'Finn Anderson',\n",
       " 'Anderson .Paak',\n",
       " 'The Beach Boys',\n",
       " 'Ryan Scott Oliver',\n",
       " 'Hans Zimmer',\n",
       " 'Carmen Cusack']"
      ]
     },
     "execution_count": 13,
     "metadata": {},
     "output_type": "execute_result"
    }
   ],
   "source": [
    "[i['name'] for i in result['items']]"
   ]
  }
 ],
 "metadata": {
  "kernelspec": {
   "display_name": "Python 3",
   "language": "python",
   "name": "python3"
  },
  "language_info": {
   "codemirror_mode": {
    "name": "ipython",
    "version": 3
   },
   "file_extension": ".py",
   "mimetype": "text/x-python",
   "name": "python",
   "nbconvert_exporter": "python",
   "pygments_lexer": "ipython3",
   "version": "3.7.1"
  }
 },
 "nbformat": 4,
 "nbformat_minor": 2
}
