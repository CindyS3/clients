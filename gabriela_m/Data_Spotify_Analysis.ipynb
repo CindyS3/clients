{
 "cells": [
  {
   "cell_type": "code",
   "execution_count": 2,
   "metadata": {},
   "outputs": [
    {
     "name": "stdout",
     "output_type": "stream",
     "text": [
      "Populating the interactive namespace from numpy and matplotlib\n"
     ]
    }
   ],
   "source": [
    "%pylab inline\n",
    "import pandas as pd"
   ]
  },
  {
   "cell_type": "code",
   "execution_count": 15,
   "metadata": {},
   "outputs": [],
   "source": [
    "def scan_columns(df,key):\n",
    "    for c in df.columns:\n",
    "        if key in c:\n",
    "            print(c)"
   ]
  },
  {
   "cell_type": "code",
   "execution_count": 5,
   "metadata": {},
   "outputs": [],
   "source": [
    "df_18 = pd.read_csv('~/Google Drive/Work/Wyzant/gabriela_m/spotify-audio-features/SpotifyAudioFeaturesNov2018.csv')"
   ]
  },
  {
   "cell_type": "code",
   "execution_count": 63,
   "metadata": {},
   "outputs": [],
   "source": [
    "df_19 = pd.read_csv('~/Google Drive/Work/Wyzant/gabriela_m/spotify-audio-features/SpotifyAudioFeaturesApril2019.csv')"
   ]
  },
  {
   "cell_type": "code",
   "execution_count": 14,
   "metadata": {},
   "outputs": [
    {
     "data": {
      "text/plain": [
       "Index(['artist_name', 'track_id', 'track_name', 'acousticness', 'danceability',\n",
       "       'duration_ms', 'energy', 'instrumentalness', 'key', 'liveness',\n",
       "       'loudness', 'mode', 'speechiness', 'tempo', 'time_signature', 'valence',\n",
       "       'popularity'],\n",
       "      dtype='object')"
      ]
     },
     "execution_count": 14,
     "metadata": {},
     "output_type": "execute_result"
    }
   ],
   "source": [
    "df_19.columns"
   ]
  },
  {
   "cell_type": "code",
   "execution_count": 21,
   "metadata": {},
   "outputs": [],
   "source": [
    "an_19 = df_19['artist_name']\n",
    "an_18 = df_18['artist_name']"
   ]
  },
  {
   "cell_type": "code",
   "execution_count": 27,
   "metadata": {},
   "outputs": [],
   "source": [
    "shared = list(set(an_19).union(set(an_18)))"
   ]
  },
  {
   "cell_type": "code",
   "execution_count": 31,
   "metadata": {},
   "outputs": [],
   "source": [
    "df_shared = df_19[df_19['artist_name'].isin(shared)]"
   ]
  },
  {
   "cell_type": "code",
   "execution_count": 42,
   "metadata": {},
   "outputs": [],
   "source": [
    "songs = pd.DataFrame(columns=['2018', '2019'])\n",
    "\n",
    "songs['2019'] = an_19.value_counts()\n",
    "songs['2018'] = an_18.value_counts()"
   ]
  },
  {
   "cell_type": "code",
   "execution_count": 48,
   "metadata": {},
   "outputs": [],
   "source": [
    "diffs = (songs['2019']-songs['2018'])"
   ]
  },
  {
   "cell_type": "code",
   "execution_count": 58,
   "metadata": {},
   "outputs": [],
   "source": [
    "diffs = diffs[diffs>10]"
   ]
  },
  {
   "cell_type": "code",
   "execution_count": 59,
   "metadata": {},
   "outputs": [
    {
     "data": {
      "text/plain": [
       "(array([119.,  31.,   6.,   5.,   1.,   0.,   0.,   0.,   0.,   0.,   2.,\n",
       "          0.,   0.,   1.,   0.,   0.,   0.,   0.,   0.,   0.,   0.,   0.,\n",
       "          0.,   0.,   0.,   0.,   0.,   0.,   0.,   0.,   0.,   0.,   1.,\n",
       "          0.,   0.,   0.,   0.,   0.,   0.,   0.,   0.,   1.,   0.,   0.,\n",
       "          0.,   0.,   0.,   0.,   0.,   0.,   0.,   0.,   0.,   0.,   0.,\n",
       "          0.,   0.,   0.,   0.,   0.,   0.,   0.,   0.,   0.,   0.,   0.,\n",
       "          0.,   0.,   0.,   0.,   0.,   0.,   0.,   0.,   0.,   0.,   0.,\n",
       "          0.,   0.,   0.,   0.,   0.,   0.,   0.,   0.,   0.,   0.,   0.,\n",
       "          0.,   0.,   0.,   0.,   0.,   0.,   1.,   0.,   0.,   0.,   0.,\n",
       "          1.]),\n",
       " array([ 11.  ,  19.15,  27.3 ,  35.45,  43.6 ,  51.75,  59.9 ,  68.05,\n",
       "         76.2 ,  84.35,  92.5 , 100.65, 108.8 , 116.95, 125.1 , 133.25,\n",
       "        141.4 , 149.55, 157.7 , 165.85, 174.  , 182.15, 190.3 , 198.45,\n",
       "        206.6 , 214.75, 222.9 , 231.05, 239.2 , 247.35, 255.5 , 263.65,\n",
       "        271.8 , 279.95, 288.1 , 296.25, 304.4 , 312.55, 320.7 , 328.85,\n",
       "        337.  , 345.15, 353.3 , 361.45, 369.6 , 377.75, 385.9 , 394.05,\n",
       "        402.2 , 410.35, 418.5 , 426.65, 434.8 , 442.95, 451.1 , 459.25,\n",
       "        467.4 , 475.55, 483.7 , 491.85, 500.  , 508.15, 516.3 , 524.45,\n",
       "        532.6 , 540.75, 548.9 , 557.05, 565.2 , 573.35, 581.5 , 589.65,\n",
       "        597.8 , 605.95, 614.1 , 622.25, 630.4 , 638.55, 646.7 , 654.85,\n",
       "        663.  , 671.15, 679.3 , 687.45, 695.6 , 703.75, 711.9 , 720.05,\n",
       "        728.2 , 736.35, 744.5 , 752.65, 760.8 , 768.95, 777.1 , 785.25,\n",
       "        793.4 , 801.55, 809.7 , 817.85, 826.  ]),\n",
       " <a list of 100 Patch objects>)"
      ]
     },
     "execution_count": 59,
     "metadata": {},
     "output_type": "execute_result"
    },
    {
     "data": {
      "image/png": "[encoded data removed]",
      "text/plain": [
       "<Figure size 432x288 with 1 Axes>"
      ]
     },
     "metadata": {
      "needs_background": "light"
     },
     "output_type": "display_data"
    }
   ],
   "source": [
    "plt.hist(sorted(diffs.dropna()), bins=100)"
   ]
  },
  {
   "cell_type": "code",
   "execution_count": null,
   "metadata": {},
   "outputs": [],
   "source": []
  },
  {
   "cell_type": "code",
   "execution_count": null,
   "metadata": {},
   "outputs": [],
   "source": []
  }
 ],
 "metadata": {
  "kernelspec": {
   "display_name": "Python 3",
   "language": "python",
   "name": "python3"
  },
  "language_info": {
   "codemirror_mode": {
    "name": "ipython",
    "version": 3
   },
   "file_extension": ".py",
   "mimetype": "text/x-python",
   "name": "python",
   "nbconvert_exporter": "python",
   "pygments_lexer": "ipython3",
   "version": "3.7.1"
  }
 },
 "nbformat": 4,
 "nbformat_minor": 2
}
