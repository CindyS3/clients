{
 "cells": [
  {
   "cell_type": "code",
   "execution_count": 50,
   "metadata": {},
   "outputs": [
    {
     "name": "stdout",
     "output_type": "stream",
     "text": [
      "Populating the interactive namespace from numpy and matplotlib\n"
     ]
    },
    {
     "name": "stderr",
     "output_type": "stream",
     "text": [
      "/Users/mgbvox/anaconda3/lib/python3.7/site-packages/IPython/core/magics/pylab.py:160: UserWarning: pylab import has clobbered these variables: ['number']\n",
      "`%matplotlib` prevents importing * from pylab and numpy\n",
      "  \"\\n`%matplotlib` prevents importing * from pylab and numpy\"\n"
     ]
    }
   ],
   "source": [
    "%pylab inline\n",
    "import pandas as pd"
   ]
  },
  {
   "cell_type": "code",
   "execution_count": 51,
   "metadata": {},
   "outputs": [],
   "source": [
    "day_i = [\"Bob: 1200\", \"Alice: 2500\", \"Celia: 110\"]"
   ]
  },
  {
   "cell_type": "code",
   "execution_count": 52,
   "metadata": {},
   "outputs": [
    {
     "data": {
      "text/html": [
       "<div>\n",
       "<style scoped>\n",
       "    .dataframe tbody tr th:only-of-type {\n",
       "        vertical-align: middle;\n",
       "    }\n",
       "\n",
       "    .dataframe tbody tr th {\n",
       "        vertical-align: top;\n",
       "    }\n",
       "\n",
       "    .dataframe thead th {\n",
       "        text-align: right;\n",
       "    }\n",
       "</style>\n",
       "<table border=\"1\" class=\"dataframe\">\n",
       "  <thead>\n",
       "    <tr style=\"text-align: right;\">\n",
       "      <th></th>\n",
       "      <th>Customer</th>\n",
       "      <th>Total Purchase</th>\n",
       "    </tr>\n",
       "  </thead>\n",
       "  <tbody>\n",
       "    <tr>\n",
       "      <th>0</th>\n",
       "      <td>Bob</td>\n",
       "      <td>1200</td>\n",
       "    </tr>\n",
       "    <tr>\n",
       "      <th>1</th>\n",
       "      <td>Alice</td>\n",
       "      <td>2500</td>\n",
       "    </tr>\n",
       "    <tr>\n",
       "      <th>2</th>\n",
       "      <td>Celia</td>\n",
       "      <td>110</td>\n",
       "    </tr>\n",
       "  </tbody>\n",
       "</table>\n",
       "</div>"
      ],
      "text/plain": [
       "  Customer  Total Purchase\n",
       "0      Bob            1200\n",
       "1    Alice            2500\n",
       "2    Celia             110"
      ]
     },
     "execution_count": 52,
     "metadata": {},
     "output_type": "execute_result"
    }
   ],
   "source": [
    "df = pd.DataFrame.from_dict(dict([i.split(': ') for i in day_i]), orient='index')\n",
    "df = df.reset_index()\n",
    "df.columns = ['Customer', 'Total Purchase']\n",
    "df['Total Purchase'] = df['Total Purchase'].apply(int)\n",
    "df"
   ]
  },
  {
   "cell_type": "code",
   "execution_count": 54,
   "metadata": {},
   "outputs": [
    {
     "data": {
      "text/plain": [
       "array([['Bob', '1200'],\n",
       "       ['Alice', '2500'],\n",
       "       ['Celia', '110']], dtype='<U5')"
      ]
     },
     "execution_count": 54,
     "metadata": {},
     "output_type": "execute_result"
    }
   ],
   "source": [
    "np.array([i.split(': ') for i in day_i])"
   ]
  },
  {
   "cell_type": "code",
   "execution_count": null,
   "metadata": {},
   "outputs": [],
   "source": []
  },
  {
   "cell_type": "code",
   "execution_count": null,
   "metadata": {},
   "outputs": [],
   "source": []
  },
  {
   "cell_type": "code",
   "execution_count": 13,
   "metadata": {},
   "outputs": [
    {
     "name": "stdout",
     "output_type": "stream",
     "text": [
      "61 9732 7014\n",
      "305 9882 7801\n",
      "27 9448 3942\n",
      "139 9499 6635\n",
      "1409 9661 2643\n",
      "388 9407 6080\n",
      "27 9629 3448\n",
      "22 9969 1772\n",
      "28 9756 2859\n",
      "1151 9803 2942\n",
      "376 9463 6373\n",
      "276 9592 8230\n",
      "1554 9864 7825\n",
      "761 7794 7147\n",
      "489 9570 684\n",
      "157 9319 8589\n",
      "131 9550 8352\n",
      "89 9900 5863\n",
      "480 9882 8089\n",
      "545 9109 8433\n",
      "290 9203 7819\n",
      "1021 9806 3909\n",
      "147 9993 2946\n",
      "580 9683 2831\n",
      "325 8719 1495\n",
      "529 9877 724\n",
      "578 9697 6302\n",
      "124 9063 8722\n",
      "675 9341 8214\n",
      "321 9841 5369\n",
      "168 9716 6859\n",
      "645 9568 4537\n",
      "147 9097 7932\n",
      "614 9975 2629\n",
      "526 9795 3221\n",
      "794 9239 9111\n",
      "1805 9134 8699\n",
      "1387 9955 2857\n",
      "153 9884 3840\n",
      "299 8756 6602\n",
      "1652 9322 4185\n",
      "771 9713 5716\n",
      "11 9387 6307\n",
      "236 9555 7619\n",
      "879 9916 8545\n",
      "365 9735 8522\n",
      "217 9961 2165\n",
      "140 9739 1568\n",
      "653 9938 9187\n",
      "190 9449 2232\n",
      "90 9409 1343\n",
      "509 9136 5168\n",
      "239 9764 3757\n",
      "1000 9976 1497\n",
      "68 9483 3937\n",
      "100 9733 8949\n",
      "908 9888 2541\n",
      "287 9788 1169\n",
      "193 9849 4583\n",
      "837 9855 6228\n",
      "5 9694 1242\n",
      "749 9963 7810\n",
      "682 9669 2350\n",
      "722 9820 1902\n",
      "364 9601 8896\n",
      "110 9346 4206\n",
      "276 9978 467\n",
      "270 9210 7559\n",
      "385 9715 8680\n",
      "500 9925 6387\n",
      "12 9676 5308\n",
      "729 8948 7907\n",
      "232 9756 9057\n",
      "194 9158 1606\n",
      "1439 9545 8919\n",
      "1391 9906 7227\n",
      "224 9635 4415\n",
      "328 9971 1262\n",
      "1051 9775 4318\n",
      "639 9304 5638\n",
      "224 9983 6510\n",
      "335 8468 3555\n",
      "346 9174 7048\n",
      "759 9613 9156\n",
      "85 9989 8532\n",
      "1344 9631 7681\n",
      "168 9637 6450\n",
      "100 8369 6848\n",
      "324 9363 4642\n",
      "13 9243 7576\n",
      "1341 8453 7464\n",
      "234 9979 3825\n",
      "455 9580 6283\n",
      "117 9446 6768\n",
      "420 9989 4123\n",
      "463 8795 7220\n",
      "621 8721 4490\n",
      "1133 9562 3428\n",
      "1882 9920 7473\n",
      "279 9646 2625\n"
     ]
    }
   ],
   "source": [
    "\"\"\"Matt's Solution for Question 3: (Use your own, it's cooler.)\"\"\"\n",
    "\n",
    "g_meta_hist = []\n",
    "for i in range(100):\n",
    "    #Create random range and secret number within range:\n",
    "    ns = sorted(np.random.randint(0,10000,20))\n",
    "    low = ns[0]\n",
    "    high = ns[-1]\n",
    "    number = np.random.randint(low, high)\n",
    "    print(low, high, number)\n",
    "\n",
    "    #Binary search for guess:\n",
    "    guess_history = []\n",
    "    guess = int(np.mean([low,high]))\n",
    "    guesses = 1\n",
    "    while guess != number:\n",
    "        if guess < number:\n",
    "            low = guess\n",
    "            guess = int(np.mean([low,high]))\n",
    "        if guess > number:\n",
    "            high = guess\n",
    "            guess = int(np.mean([low,high]))\n",
    "        guesses += 1\n",
    "        guess_history.append(guess)\n",
    "        #print(guesses, '|', guess)\n",
    "    #plt.plot(guess_history)\n",
    "    g_meta_hist.append(len(guess_history))"
   ]
  },
  {
   "cell_type": "code",
   "execution_count": 14,
   "metadata": {},
   "outputs": [
    {
     "data": {
      "text/plain": [
       "8.58"
      ]
     },
     "execution_count": 14,
     "metadata": {},
     "output_type": "execute_result"
    }
   ],
   "source": [
    "np.mean(g_meta_hist)"
   ]
  },
  {
   "cell_type": "code",
   "execution_count": 27,
   "metadata": {},
   "outputs": [],
   "source": [
    "\"\"\"Question 2:\"\"\"\n",
    "\n",
    "#Examples (this cell)\n",
    "day_i = [\"Bob: 1200\", \"Alice: 2500\", \"Celia: 110\"]\n",
    "\n",
    "[x**2 for x in range(5)]\n",
    "\n",
    "s1 = day_i[0]\n",
    "\n",
    "s1.split(': ')"
   ]
  },
  {
   "cell_type": "code",
   "execution_count": 44,
   "metadata": {},
   "outputs": [
    {
     "data": {
      "text/html": [
       "<div>\n",
       "<style scoped>\n",
       "    .dataframe tbody tr th:only-of-type {\n",
       "        vertical-align: middle;\n",
       "    }\n",
       "\n",
       "    .dataframe tbody tr th {\n",
       "        vertical-align: top;\n",
       "    }\n",
       "\n",
       "    .dataframe thead th {\n",
       "        text-align: right;\n",
       "    }\n",
       "</style>\n",
       "<table border=\"1\" class=\"dataframe\">\n",
       "  <thead>\n",
       "    <tr style=\"text-align: right;\">\n",
       "      <th></th>\n",
       "      <th>Customer</th>\n",
       "      <th>Total Purchase</th>\n",
       "    </tr>\n",
       "  </thead>\n",
       "  <tbody>\n",
       "    <tr>\n",
       "      <th>0</th>\n",
       "      <td>Bob</td>\n",
       "      <td>1200</td>\n",
       "    </tr>\n",
       "    <tr>\n",
       "      <th>1</th>\n",
       "      <td>Alice</td>\n",
       "      <td>2500</td>\n",
       "    </tr>\n",
       "    <tr>\n",
       "      <th>2</th>\n",
       "      <td>Celia</td>\n",
       "      <td>110</td>\n",
       "    </tr>\n",
       "    <tr>\n",
       "      <th>3</th>\n",
       "      <td>Matt</td>\n",
       "      <td>5</td>\n",
       "    </tr>\n",
       "  </tbody>\n",
       "</table>\n",
       "</div>"
      ],
      "text/plain": [
       "  Customer Total Purchase\n",
       "0      Bob           1200\n",
       "1    Alice           2500\n",
       "2    Celia            110\n",
       "3     Matt              5"
      ]
     },
     "execution_count": 44,
     "metadata": {},
     "output_type": "execute_result"
    }
   ],
   "source": [
    "#Implementation:\n",
    "day_i = [\"Bob: 1200\", \"Alice: 2500\", \"Celia: 110\", \"Matt: 5\"]\n",
    "\n",
    "d = dict([s.split(': ') for s in day_i])\n",
    "\n",
    "#https://pandas.pydata.org/pandas-docs/stable/reference/api/pandas.DataFrame.from_dict.html\n",
    "df = pd.DataFrame.from_dict(d, orient='index')\n",
    "df = df.reset_index()\n",
    "df.columns = ['Customer', 'Total Purchase']\n",
    "df"
   ]
  },
  {
   "cell_type": "code",
   "execution_count": 47,
   "metadata": {},
   "outputs": [
    {
     "data": {
      "text/html": [
       "<div>\n",
       "<style scoped>\n",
       "    .dataframe tbody tr th:only-of-type {\n",
       "        vertical-align: middle;\n",
       "    }\n",
       "\n",
       "    .dataframe tbody tr th {\n",
       "        vertical-align: top;\n",
       "    }\n",
       "\n",
       "    .dataframe thead th {\n",
       "        text-align: right;\n",
       "    }\n",
       "</style>\n",
       "<table border=\"1\" class=\"dataframe\">\n",
       "  <thead>\n",
       "    <tr style=\"text-align: right;\">\n",
       "      <th></th>\n",
       "      <th>col_1</th>\n",
       "      <th>col_2</th>\n",
       "    </tr>\n",
       "  </thead>\n",
       "  <tbody>\n",
       "    <tr>\n",
       "      <th>0</th>\n",
       "      <td>3</td>\n",
       "      <td>a</td>\n",
       "    </tr>\n",
       "    <tr>\n",
       "      <th>1</th>\n",
       "      <td>2</td>\n",
       "      <td>b</td>\n",
       "    </tr>\n",
       "    <tr>\n",
       "      <th>2</th>\n",
       "      <td>1</td>\n",
       "      <td>c</td>\n",
       "    </tr>\n",
       "    <tr>\n",
       "      <th>3</th>\n",
       "      <td>0</td>\n",
       "      <td>d</td>\n",
       "    </tr>\n",
       "  </tbody>\n",
       "</table>\n",
       "</div>"
      ],
      "text/plain": [
       "   col_1 col_2\n",
       "0      3     a\n",
       "1      2     b\n",
       "2      1     c\n",
       "3      0     d"
      ]
     },
     "execution_count": 47,
     "metadata": {},
     "output_type": "execute_result"
    }
   ],
   "source": [
    "#Example of default from_dict behavior:\n",
    "pd.DataFrame.from_dict({'col_1': [3, 2, 1, 0], 'col_2': ['a', 'b', 'c', 'd']})"
   ]
  }
 ],
 "metadata": {
  "kernelspec": {
   "display_name": "Python 3",
   "language": "python",
   "name": "python3"
  },
  "language_info": {
   "codemirror_mode": {
    "name": "ipython",
    "version": 3
   },
   "file_extension": ".py",
   "mimetype": "text/x-python",
   "name": "python",
   "nbconvert_exporter": "python",
   "pygments_lexer": "ipython3",
   "version": "3.7.1"
  }
 },
 "nbformat": 4,
 "nbformat_minor": 2
}
