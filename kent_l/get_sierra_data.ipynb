{
 "cells": [
  {
   "cell_type": "code",
   "execution_count": 21,
   "metadata": {},
   "outputs": [
    {
     "name": "stdout",
     "output_type": "stream",
     "text": [
      "Populating the interactive namespace from numpy and matplotlib\n"
     ]
    }
   ],
   "source": [
    "#These are the installs necessary to run the code.\n",
    "#!pip install sierrapy\n",
    "#!pip install biopython\n",
    "\n",
    "#Other imports\n",
    "%pylab inline\n",
    "import pandas as pd\n",
    "from Bio.Blast import NCBIWWW\n",
    "from Bio.Blast import NCBIXML\n",
    "import os"
   ]
  },
  {
   "cell_type": "code",
   "execution_count": 22,
   "metadata": {},
   "outputs": [],
   "source": [
    "'''These functions make writing the necessary files much faster.'''\n",
    "\n",
    "def write_fasta(f_name,seq,ID=''):\n",
    "    with open(f_name+'.txt', \"w\") as out_handle:\n",
    "        out_handle.write('>{}\\n'.format(ID))\n",
    "        out_handle.write(str(seq))\n",
    "        \n",
    "def write_fasta_multi(f_name,seqs,ID='unk'):\n",
    "    with open(f_name+'.txt', \"w\") as out_handle:\n",
    "        for seq in seqs:\n",
    "            out_handle.write('>{}\\n'.format(ID))\n",
    "            out_handle.write(str(seq)+'\\n')\n",
    "\n",
    "def blast(f_name):\n",
    "    #Read the FASTA file\n",
    "    fasta_string = open(f_name+'.txt').read()\n",
    "    print('Searching {}'.format(f_name)) #Progress marker\n",
    "    #Submit FASTA file to BLASTn, store results\n",
    "    result_handle = NCBIWWW.qblast(\"blastn\", \"nt\", fasta_string)\n",
    "    print('Done! Writing:') #Progress marker\n",
    "    #Write the result as xml for parsing\n",
    "    with open(f_name+\".xml\", \"w\") as out_handle:\n",
    "         out_handle.write(result_handle.read())\n",
    "    result_handle.close()\n",
    "    print('Returning result for {}'.format(f_name))\n",
    "    \n",
    "    #Open resulting xml file\n",
    "    result_handle = open(f_name+\".xml\")\n",
    "    #Parse and store as blast record.\n",
    "    blast_record = NCBIXML.read(result_handle)\n",
    "    return blast_record\n",
    "\n",
    "def rm_whitespace(s):\n",
    "    return ''.join(s.split())\n",
    "\n",
    "def sierra(seqs,response_type,gene_type):\n",
    "    gene_type = rm_whitespace(gene_type)\n",
    "    for i,seq in enumerate(seqs):\n",
    "        try:\n",
    "            #This creates a directory with the sequence index as it's title\n",
    "            #Keeps the data organized.\n",
    "            path = 'files/{}/{}/{}'.format(response_type,gene_type,i)\n",
    "            os.makedirs(path)\n",
    "            #Use string interpolation (the {} thing) to define generic output filename\n",
    "            f_name = 'files/{}/{}/{}/{}_seq'.format(response_type,gene_type,i,i)\n",
    "            ID = 'unk'\n",
    "            #Make a new FASTA file, this time identified - \n",
    "            #We'll submit that to sierrapy\n",
    "            write_fasta(f_name,seq,ID=ID)\n",
    "            #Submit to sierrapy for results! -o specifies we want to store the result.\n",
    "            !sierrapy fasta {f_name+'.txt'} -o {f_name+'.json'}\n",
    "        except: \n",
    "            pass\n"
   ]
  },
  {
   "cell_type": "code",
   "execution_count": 23,
   "metadata": {},
   "outputs": [
    {
     "name": "stdout",
     "output_type": "stream",
     "text": [
      "20it [00:02,  8.56it/s]                                                         \n",
      "20it [00:01, 10.27it/s]                                                         \n",
      "20it [00:01, 13.91it/s]                                                         \n",
      "20it [00:08,  2.33it/s]                                                         \n",
      "20it [00:01, 11.16it/s]                                                         \n",
      "20it [00:01, 14.11it/s]                                                         \n",
      "20it [00:01, 16.63it/s]                                                         \n",
      "20it [00:01, 19.10it/s]                                                         \n",
      "20it [00:02,  7.46it/s]                                                         \n",
      "20it [00:01, 13.25it/s]                                                         \n",
      "20it [00:01, 10.59it/s]                                                         \n",
      "20it [00:01, 11.00it/s]                                                         \n"
     ]
    }
   ],
   "source": [
    "#First, read in the data.\n",
    "data = pd.concat([pd.read_csv('training_data.csv'),pd.read_csv('test_data.csv')])\n",
    "data = data.dropna(how='any')\n",
    "\n",
    "#Separate by response type:\n",
    "response_types = [v for v in data['Resp'].unique() if type(v)==int]\n",
    "gene_types = [c for c in data.columns if 'Seq' in c]\n",
    "for response_type in response_types:\n",
    "    for gene_type in gene_types:\n",
    "        seqs = data[data['Resp']==response_type][gene_type].iloc[0:3]\n",
    "        sierra(seqs,response_type,gene_type)"
   ]
  },
  {
   "cell_type": "code",
   "execution_count": null,
   "metadata": {},
   "outputs": [],
   "source": [
    "'''\n",
    "And that's it! Now you can take the mutations list, \n",
    "and the indices of each mutation, and find shared\n",
    "mutations across the bad performers.\n",
    "'''"
   ]
  }
 ],
 "metadata": {
  "kernelspec": {
   "display_name": "Python 3",
   "language": "python",
   "name": "python3"
  },
  "language_info": {
   "codemirror_mode": {
    "name": "ipython",
    "version": 3
   },
   "file_extension": ".py",
   "mimetype": "text/x-python",
   "name": "python",
   "nbconvert_exporter": "python",
   "pygments_lexer": "ipython3",
   "version": "3.7.1"
  }
 },
 "nbformat": 4,
 "nbformat_minor": 2
}
