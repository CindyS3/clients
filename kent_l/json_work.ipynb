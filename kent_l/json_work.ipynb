{
 "cells": [
  {
   "cell_type": "code",
   "execution_count": 2,
   "metadata": {},
   "outputs": [
    {
     "name": "stdin",
     "output_type": "stream",
     "text": [
      "Input pr or rt:  Pr\n",
      "Which sequence number? Input integer:  8\n"
     ]
    },
    {
     "name": "stdout",
     "output_type": "stream",
     "text": [
      "Your options:\n",
      "positionLine\n",
      "refAALine\n",
      "alignedNAsLine\n",
      "mutationLine\n"
     ]
    },
    {
     "name": "stdin",
     "output_type": "stream",
     "text": [
      "Input one of the above:  alignedNAsLine\n"
     ]
    },
    {
     "name": "stdout",
     "output_type": "stream",
     "text": [
      "['CCT', 'CAA', 'ATC', 'ACT', 'CTT', 'TGG', 'CAA', 'CGA', 'CCC', 'CTC', 'GTC', 'TCA', 'ATA', 'AAG', 'ATA', 'GGG', 'GGG', 'CAA', 'GTA', 'AAG', 'GAA', 'GCT', 'CTA', 'TTA', 'GAT', 'ACA', 'GGA', 'GCA', 'GAT', 'GAT', 'ACA', 'GTA', 'TTA', 'GAA', 'GAC', 'ATG', 'ACT', 'TTG', 'CCA', 'GGA', 'AGA', 'TGG', 'AAA', 'CCA', 'AAA', 'ATG', 'ATA', 'GGG', 'GGA', 'ATT', 'GGA', 'GGT', 'TTT', 'ATC', 'AAA', 'GTA', 'AGA', 'CAG', 'TAT', 'GAT', 'CAG', 'ATA', 'GAA', 'MTA', 'GAM', 'ATC', 'TGT', 'GGA', 'CAT', 'AAA', 'GCT', 'ATA', 'GGT', 'ACA', 'GTA', 'TTA', 'GTA', 'GGA', 'CCT', 'ACA', 'CCT', 'GTC', 'AAC', 'ATA', 'ATT', 'GGA', 'AGA', 'AAT', 'CTG', 'TTG', 'ACT', 'CAG', 'ATT', 'GGT', 'TGC', 'ACT', 'TTA', 'AAT', 'TTT']\n"
     ]
    }
   ],
   "source": [
    "import json\n",
    "\n",
    "gene_type = input('Input pr or rt: ')\n",
    "seq_n = input('Which sequence number? Input integer: ')\n",
    "\n",
    "json_data = open('files/{}/{}/{}_seqid.json'.format(gene_type,seq_n,seq_n), 'r')\n",
    "jdata = json.loads(json_data.read())\n",
    "options = jdata[0]['alignedGeneSequences'][0]['prettyPairwise'].keys()\n",
    "print('Your options:')\n",
    "for k in options:\n",
    "    print(k)\n",
    "selection = input('Input one of the above: ')\n",
    "res = jdata[0]['alignedGeneSequences'][0]['prettyPairwise'][selection]\n",
    "print(res)"
   ]
  },
  {
   "cell_type": "code",
   "execution_count": 6,
   "metadata": {},
   "outputs": [
    {
     "name": "stdout",
     "output_type": "stream",
     "text": [
      "Populating the interactive namespace from numpy and matplotlib\n"
     ]
    }
   ],
   "source": [
    "%pylab inline\n",
    "import pandas as pd\n",
    "\n",
    "data = pd.concat([pd.read_csv('training_data.csv'),pd.read_csv('test_data.csv')])\n",
    "data = data[data['Resp']!=1].dropna(how='any').reset_index(drop=True)"
   ]
  },
  {
   "cell_type": "code",
   "execution_count": 15,
   "metadata": {},
   "outputs": [],
   "source": [
    "import json\n",
    "\n",
    "gene_types = ['pr','rt']\n",
    "\n",
    "for gt in gene_types:\n",
    "    mutations = []\n",
    "\n",
    "    for i in range(len(data)):\n",
    "        json_data = open('files/{}/{}/{}_seqid.json'.format(gt,i,i), 'r')\n",
    "        jdata = json.loads(json_data.read())\n",
    "        selection = 'mutationLine'\n",
    "        res = jdata[0]['alignedGeneSequences'][0]['prettyPairwise'][selection]\n",
    "        mutations.append(res)\n",
    "    data = pd.concat([data,pd.Series(mutations, name='{}_muts'.format(gt))], axis=1)"
   ]
  },
  {
   "cell_type": "code",
   "execution_count": null,
   "metadata": {},
   "outputs": [],
   "source": []
  },
  {
   "cell_type": "code",
   "execution_count": 25,
   "metadata": {},
   "outputs": [],
   "source": [
    "no_resp_df = data[data['Resp']==0]"
   ]
  },
  {
   "cell_type": "code",
   "execution_count": null,
   "metadata": {},
   "outputs": [],
   "source": [
    "#for each mutation location\n",
    "#only on Resp=0\n",
    "#find most common."
   ]
  },
  {
   "cell_type": "code",
   "execution_count": 31,
   "metadata": {},
   "outputs": [],
   "source": [
    "pr_muts_no_resp = no_resp_df['pr_muts']"
   ]
  },
  {
   "cell_type": "code",
   "execution_count": 80,
   "metadata": {},
   "outputs": [],
   "source": [
    "\n",
    "muts_map = {}\n",
    "all_muts = set()\n",
    "\n",
    "for muts_list in pr_muts_no_resp:\n",
    "    for idx,mut in enumerate(muts_list):\n",
    "        all_muts.add(mut)\n",
    "        try:\n",
    "            muts_map[idx].append(mut)\n",
    "        except:\n",
    "            mut_record =[mut]\n",
    "            muts_map[idx]=mut_record"
   ]
  },
  {
   "cell_type": "code",
   "execution_count": 63,
   "metadata": {},
   "outputs": [],
   "source": [
    "muts_freqs = [pd.Series(muts_map[k]).value_counts() for k in sorted(muts_map.keys())]"
   ]
  },
  {
   "cell_type": "code",
   "execution_count": null,
   "metadata": {},
   "outputs": [],
   "source": []
  },
  {
   "cell_type": "code",
   "execution_count": 74,
   "metadata": {},
   "outputs": [],
   "source": [
    "\n",
    "def query_muts(query):\n",
    "    \n",
    "    query=query.strip().lower()\n",
    "    \n",
    "    percentage_list = []\n",
    "\n",
    "    for pos,count in enumerate(muts_freqs):\n",
    "        muts = [mut.strip().lower() for mut in count.index]\n",
    "        freqs = count.values\n",
    "        l = sum(freqs)\n",
    "        freqs = [np.round((f/l)*100,2) for f in freqs]\n",
    "\n",
    "        try:\n",
    "            res = dict(zip(muts,freqs))[query]\n",
    "            percentage_list.append(res)\n",
    "        except:\n",
    "            percentage_list.append(0.0)\n",
    "    return percentage_list"
   ]
  },
  {
   "cell_type": "code",
   "execution_count": 84,
   "metadata": {},
   "outputs": [
    {
     "data": {
      "image/png": "[encoded data removed]",
      "text/plain": [
       "<Figure size 432x288 with 1 Axes>"
      ]
     },
     "metadata": {
      "needs_background": "light"
     },
     "output_type": "display_data"
    }
   ],
   "source": [
    "for mut in all_muts:\n",
    "    if mut != ' - ':\n",
    "        plt.plot(query_muts(mut))\n",
    "plt.show()"
   ]
  },
  {
   "cell_type": "code",
   "execution_count": null,
   "metadata": {},
   "outputs": [],
   "source": []
  },
  {
   "cell_type": "code",
   "execution_count": 85,
   "metadata": {},
   "outputs": [],
   "source": []
  },
  {
   "cell_type": "code",
   "execution_count": 95,
   "metadata": {},
   "outputs": [
    {
     "data": {
      "text/plain": [
       "<matplotlib.image.AxesImage at 0x7fc57133ca90>"
      ]
     },
     "execution_count": 95,
     "metadata": {},
     "output_type": "execute_result"
    },
    {
     "data": {
      "image/png": "[encoded data removed]",
      "text/plain": [
       "<Figure size 432x288 with 1 Axes>"
      ]
     },
     "metadata": {
      "needs_background": "light"
     },
     "output_type": "display_data"
    }
   ],
   "source": [
    "cols = sorted([l.strip() for l in all_muts if l != ' - '])\n",
    "hmv = pd.concat([pd.Series(query_muts(c)) for c in cols], axis=1).values\n",
    "plt.imshow(hmv)"
   ]
  },
  {
   "cell_type": "code",
   "execution_count": 97,
   "metadata": {},
   "outputs": [],
   "source": [
    "pd.concat([pd.Series(query_muts(c)) for c in cols], axis=1).to_csv('mut_sheet.csv')"
   ]
  },
  {
   "cell_type": "code",
   "execution_count": null,
   "metadata": {},
   "outputs": [],
   "source": [
    "'''TODO'''\n",
    "#Clean up/streamline code\n",
    "#Unify all the code into one notebook.\n",
    "#Spreadsheet columns = mutations, rows = position, cell = frequency\n",
    "#Legend on all charts\n",
    "#Word document explaining the analytical process\n",
    "#Divergence between 1 and 0 sets.\n",
    "#Titles and axis labels on all charts\n",
    "#Reference to mutations list\n",
    "#Get to final product by next session."
   ]
  }
 ],
 "metadata": {
  "kernelspec": {
   "display_name": "Python 3",
   "language": "python",
   "name": "python3"
  },
  "language_info": {
   "codemirror_mode": {
    "name": "ipython",
    "version": 3
   },
   "file_extension": ".py",
   "mimetype": "text/x-python",
   "name": "python",
   "nbconvert_exporter": "python",
   "pygments_lexer": "ipython3",
   "version": "3.6.8"
  }
 },
 "nbformat": 4,
 "nbformat_minor": 2
}
